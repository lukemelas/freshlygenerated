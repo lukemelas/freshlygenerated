{
 "cells": [
  {
   "cell_type": "code",
   "execution_count": 1,
   "metadata": {
    "collapsed": true,
    "scrolled": true
   },
   "outputs": [],
   "source": [
    "from bs4 import BeautifulSoup\n",
    "import requests\n",
    "\n",
    "url = 'https://cooking.nytimes.com/ourcooks/sam-sifton/all?page=200'\n",
    "page = requests.get(url)\n",
    "\n",
    "soup = BeautifulSoup(page.content, 'html.parser')\n",
    "# print(soup.prettify())"
   ]
  },
  {
   "cell_type": "code",
   "execution_count": 2,
   "metadata": {},
   "outputs": [
    {
     "data": {
      "text/plain": [
       "879"
      ]
     },
     "execution_count": 2,
     "metadata": {},
     "output_type": "execute_result"
    }
   ],
   "source": [
    "recipes = soup.find_all(class_='card recipe-card')\n",
    "len(recipes)"
   ]
  },
  {
   "cell_type": "code",
   "execution_count": 3,
   "metadata": {},
   "outputs": [
    {
     "data": {
      "text/plain": [
       "<article class=\"card recipe-card\" data-id=\"1019992\" data-seo-image-url=\"https://static01.nyt.com/images/2019/02/17/dining/17norecipe-fettuccine/merlin_147764622_e8fdd236-fcf7-49d6-b21c-2468457e1c22-threeByTwoMediumAt2X.jpg\" data-type=\"recipe\" data-url=\"/recipes/1019992-fettuccine-with-ricotta-and-a-fistful-of-mint\">\n",
       "<div class=\"image-wrap\">\n",
       "<a class=\"image-anchor card-link\" href=\"/recipes/1019992-fettuccine-with-ricotta-and-a-fistful-of-mint\">\n",
       "<div class=\"image\">\n",
       "<img alt=\"Image for Fettuccine With Ricotta and a Fistful of Mint\" class=\"fixed-height \" data-pin-media=\"https://static01.nyt.com/images/2019/02/17/dining/17norecipe-fettuccine/merlin_147764622_e8fdd236-fcf7-49d6-b21c-2468457e1c22-verticalTwoByThree735.jpg\" data-src=\"https://static01.nyt.com/images/2019/02/17/dining/17norecipe-fettuccine/merlin_147764622_e8fdd236-fcf7-49d6-b21c-2468457e1c22-mediumThreeByTwo252.jpg\" src=\"https://static01.nyt.com/applications/cooking/44d83dd/assets/card-placeholder-image.png\"/>\n",
       "</div>\n",
       "</a>\n",
       "</div> <!-- /.image-wrap -->\n",
       "<div class=\"card-info-wrapper\">\n",
       "<a class=\"card-recipe-info card-link\" href=\"/recipes/1019992-fettuccine-with-ricotta-and-a-fistful-of-mint\">\n",
       "<div class=\"card-data-wrapper\">\n",
       "<h3 class=\"name\" data-name=\"Fettuccine With Ricotta and a Fistful of Mint\" data-share-title=\"Fettuccine+With+Ricotta+and+a+Fistful+of+Mint+by+Sam+Sifton\">\n",
       "        Fettuccine With Ricotta and a Fistful of Mint\n",
       "      </h3>\n",
       "<p class=\"card-byline\">By Sam Sifton</p>\n",
       "</div>\n",
       "</a>\n",
       "<div class=\"controls card-controls recipe-card-controls\">\n",
       "<div class=\"control-buttons\">\n",
       "<div class=\"control-save-btn control-btn\">\n",
       "<span class=\"icon icon-bookmark-hover-outline control-transition\"></span>\n",
       "<span class=\"icon icon-bookmark-hover-fill\"></span>\n",
       "</div>\n",
       "</div>\n",
       "</div>\n",
       "</div>\n",
       "</article>"
      ]
     },
     "execution_count": 3,
     "metadata": {},
     "output_type": "execute_result"
    }
   ],
   "source": [
    "recipes[0]"
   ]
  },
  {
   "cell_type": "code",
   "execution_count": 41,
   "metadata": {},
   "outputs": [
    {
     "name": "stdout",
     "output_type": "stream",
     "text": [
      "Some metadata missing.\n",
      "Some metadata missing.\n",
      "Some metadata missing.\n",
      "Some metadata missing.\n",
      "Some metadata missing.\n",
      "Some metadata missing.\n",
      "Some metadata missing.\n",
      "Some metadata missing.\n",
      "Some metadata missing.\n",
      "Some metadata missing.\n",
      "Some metadata missing.\n"
     ]
    }
   ],
   "source": [
    "results = []\n",
    "\n",
    "for recipe in recipes:\n",
    "    name = recipe.select(\"h3.name\")[0].get('data-name')\n",
    "    image_url = recipe.select(\"article\")[0].get('data-seo-image-url')\n",
    "    # image_url = recipe.select(\"img\")[0].get('data-src')\n",
    "    author = None\n",
    "    cooking_time = None\n",
    "    try:\n",
    "        author = ' '.join(recipe.select(\"p.card-byline\")[0].text.split(' ')[1:])\n",
    "        cooking_time = recipe.select(\"p.cooking-time\")[0].text\n",
    "    except:\n",
    "        print(\"Some metadata missing.\")\n",
    "    results.append([name, author, image_url, cooking_time])"
   ]
  },
  {
   "cell_type": "code",
   "execution_count": 42,
   "metadata": {
    "scrolled": true
   },
   "outputs": [
    {
     "data": {
      "text/html": [
       "<div>\n",
       "<style scoped>\n",
       "    .dataframe tbody tr th:only-of-type {\n",
       "        vertical-align: middle;\n",
       "    }\n",
       "\n",
       "    .dataframe tbody tr th {\n",
       "        vertical-align: top;\n",
       "    }\n",
       "\n",
       "    .dataframe thead th {\n",
       "        text-align: right;\n",
       "    }\n",
       "</style>\n",
       "<table border=\"1\" class=\"dataframe\">\n",
       "  <thead>\n",
       "    <tr style=\"text-align: right;\">\n",
       "      <th></th>\n",
       "      <th>Name</th>\n",
       "      <th>Author</th>\n",
       "      <th>Image URL</th>\n",
       "      <th>Cooking Time</th>\n",
       "    </tr>\n",
       "  </thead>\n",
       "  <tbody>\n",
       "    <tr>\n",
       "      <th>0</th>\n",
       "      <td>Fettuccine With Ricotta and a Fistful of Mint</td>\n",
       "      <td>Sam Sifton</td>\n",
       "      <td>https://static01.nyt.com/images/2019/02/17/din...</td>\n",
       "      <td>None</td>\n",
       "    </tr>\n",
       "    <tr>\n",
       "      <th>1</th>\n",
       "      <td>Pasta With Sausage and Parm</td>\n",
       "      <td>Sam Sifton</td>\n",
       "      <td>https://static01.nyt.com/images/2019/02/17/din...</td>\n",
       "      <td>None</td>\n",
       "    </tr>\n",
       "    <tr>\n",
       "      <th>2</th>\n",
       "      <td>New Mexican Hot Dish</td>\n",
       "      <td>Sam Sifton</td>\n",
       "      <td>https://static01.nyt.com/images/2019/02/17/din...</td>\n",
       "      <td>None</td>\n",
       "    </tr>\n",
       "    <tr>\n",
       "      <th>3</th>\n",
       "      <td>Speedy Fish Chowder</td>\n",
       "      <td>Sam Sifton</td>\n",
       "      <td>https://static01.nyt.com/images/2019/02/17/din...</td>\n",
       "      <td>None</td>\n",
       "    </tr>\n",
       "    <tr>\n",
       "      <th>4</th>\n",
       "      <td>Weeknight Fried Rice</td>\n",
       "      <td>Sam Sifton</td>\n",
       "      <td>https://static01.nyt.com/images/2019/02/17/din...</td>\n",
       "      <td>None</td>\n",
       "    </tr>\n",
       "  </tbody>\n",
       "</table>\n",
       "</div>"
      ],
      "text/plain": [
       "                                            Name      Author  \\\n",
       "0  Fettuccine With Ricotta and a Fistful of Mint  Sam Sifton   \n",
       "1                    Pasta With Sausage and Parm  Sam Sifton   \n",
       "2                           New Mexican Hot Dish  Sam Sifton   \n",
       "3                            Speedy Fish Chowder  Sam Sifton   \n",
       "4                           Weeknight Fried Rice  Sam Sifton   \n",
       "\n",
       "                                           Image URL Cooking Time  \n",
       "0  https://static01.nyt.com/images/2019/02/17/din...         None  \n",
       "1  https://static01.nyt.com/images/2019/02/17/din...         None  \n",
       "2  https://static01.nyt.com/images/2019/02/17/din...         None  \n",
       "3  https://static01.nyt.com/images/2019/02/17/din...         None  \n",
       "4  https://static01.nyt.com/images/2019/02/17/din...         None  "
      ]
     },
     "execution_count": 42,
     "metadata": {},
     "output_type": "execute_result"
    }
   ],
   "source": [
    "import pandas as pd\n",
    "\n",
    "recipes_df = pd.DataFrame(results, columns=['Name', 'Author', 'Image URL', 'Cooking Time'])\n",
    "recipes_df.head()"
   ]
  },
  {
   "cell_type": "code",
   "execution_count": 43,
   "metadata": {},
   "outputs": [
    {
     "data": {
      "text/html": [
       "<div>\n",
       "<style scoped>\n",
       "    .dataframe tbody tr th:only-of-type {\n",
       "        vertical-align: middle;\n",
       "    }\n",
       "\n",
       "    .dataframe tbody tr th {\n",
       "        vertical-align: top;\n",
       "    }\n",
       "\n",
       "    .dataframe thead th {\n",
       "        text-align: right;\n",
       "    }\n",
       "</style>\n",
       "<table border=\"1\" class=\"dataframe\">\n",
       "  <thead>\n",
       "    <tr style=\"text-align: right;\">\n",
       "      <th></th>\n",
       "      <th>Name</th>\n",
       "      <th>Author</th>\n",
       "      <th>Image URL</th>\n",
       "      <th>Cooking Time</th>\n",
       "    </tr>\n",
       "  </thead>\n",
       "  <tbody>\n",
       "    <tr>\n",
       "      <th>874</th>\n",
       "      <td>Braised Chicken With Salami and Olives</td>\n",
       "      <td>Kim Severson</td>\n",
       "      <td>https://static01.nyt.com/images/2014/04/16/din...</td>\n",
       "      <td>2 1/2 hours</td>\n",
       "    </tr>\n",
       "    <tr>\n",
       "      <th>875</th>\n",
       "      <td>Fresh Ham With Maple-Balsamic Glaze</td>\n",
       "      <td>Sam Sifton</td>\n",
       "      <td>https://static01.nyt.com/images/2014/04/16/din...</td>\n",
       "      <td>3 1/2 to 4 hours</td>\n",
       "    </tr>\n",
       "    <tr>\n",
       "      <th>876</th>\n",
       "      <td>Unstrung Harp</td>\n",
       "      <td>Sam Sifton</td>\n",
       "      <td>https://static01.nyt.com/images/2014/05/02/din...</td>\n",
       "      <td>2 minutes</td>\n",
       "    </tr>\n",
       "    <tr>\n",
       "      <th>877</th>\n",
       "      <td>Beggar's Chicken</td>\n",
       "      <td>Craig Claiborne And Pierre Franey</td>\n",
       "      <td>https://int.nyt.com/applications/cooking/04b40...</td>\n",
       "      <td>3 hours 30 minutes</td>\n",
       "    </tr>\n",
       "    <tr>\n",
       "      <th>878</th>\n",
       "      <td>Pan-Seared Asparagus Salad With Frisée and Fri...</td>\n",
       "      <td>Melissa Clark</td>\n",
       "      <td>https://static01.nyt.com/images/2014/03/06/din...</td>\n",
       "      <td>15 minutes</td>\n",
       "    </tr>\n",
       "  </tbody>\n",
       "</table>\n",
       "</div>"
      ],
      "text/plain": [
       "                                                  Name  \\\n",
       "874             Braised Chicken With Salami and Olives   \n",
       "875                Fresh Ham With Maple-Balsamic Glaze   \n",
       "876                                      Unstrung Harp   \n",
       "877                                   Beggar's Chicken   \n",
       "878  Pan-Seared Asparagus Salad With Frisée and Fri...   \n",
       "\n",
       "                                Author  \\\n",
       "874                       Kim Severson   \n",
       "875                         Sam Sifton   \n",
       "876                         Sam Sifton   \n",
       "877  Craig Claiborne And Pierre Franey   \n",
       "878                      Melissa Clark   \n",
       "\n",
       "                                             Image URL        Cooking Time  \n",
       "874  https://static01.nyt.com/images/2014/04/16/din...         2 1/2 hours  \n",
       "875  https://static01.nyt.com/images/2014/04/16/din...    3 1/2 to 4 hours  \n",
       "876  https://static01.nyt.com/images/2014/05/02/din...           2 minutes  \n",
       "877  https://int.nyt.com/applications/cooking/04b40...  3 hours 30 minutes  \n",
       "878  https://static01.nyt.com/images/2014/03/06/din...          15 minutes  "
      ]
     },
     "execution_count": 43,
     "metadata": {},
     "output_type": "execute_result"
    }
   ],
   "source": [
    "recipes_df.tail()"
   ]
  },
  {
   "cell_type": "code",
   "execution_count": 44,
   "metadata": {
    "collapsed": true
   },
   "outputs": [],
   "source": [
    "recipes_df.to_csv('879-recipes-sam-sifton-v2.csv')"
   ]
  },
  {
   "cell_type": "code",
   "execution_count": null,
   "metadata": {
    "collapsed": true
   },
   "outputs": [],
   "source": []
  }
 ],
 "metadata": {
  "kernelspec": {
   "display_name": "Python 3",
   "language": "python",
   "name": "python3"
  },
  "language_info": {
   "codemirror_mode": {
    "name": "ipython",
    "version": 3
   },
   "file_extension": ".py",
   "mimetype": "text/x-python",
   "name": "python",
   "nbconvert_exporter": "python",
   "pygments_lexer": "ipython3",
   "version": "3.6.0"
  }
 },
 "nbformat": 4,
 "nbformat_minor": 2
}
